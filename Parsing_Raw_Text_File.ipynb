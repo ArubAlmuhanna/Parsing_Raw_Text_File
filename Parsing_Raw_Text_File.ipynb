{
 "cells": [
  {
   "cell_type": "markdown",
   "metadata": {},
   "source": [
    "# Parsing Raw Rext File\n",
    "\n",
    "Environment: Python 3.7.1 and Jupyter notebook\n",
    "\n",
    "Libraries used:\n",
    "* pandas\n",
    "* re \n",
    "\n",
    "## 1. Introduction\n",
    "The objective of this project is to parse a raw text file and export its content into two  file formats: CSV and JSON. \n",
    "\n",
    "The projects will start with exploring the text file. Followed by designing efficient regular expression patterns to extract the raw texts. Finally, the clean output will be extracted and exported into `csv` and `json` formats."
   ]
  },
  {
   "cell_type": "markdown",
   "metadata": {},
   "source": [
    "## 1.  Importing libraries "
   ]
  },
  {
   "cell_type": "code",
   "execution_count": 4,
   "metadata": {},
   "outputs": [],
   "source": [
    "#import required libraries\n",
    "import re #regualr expression \n",
    "import pandas as pd"
   ]
  },
  {
   "cell_type": "markdown",
   "metadata": {
    "collapsed": true
   },
   "source": [
    "## 2. Examining and loading dataset\n",
    "\n",
    "Before parsing the dataset, an analysis is carried out to determine the kind of data provided. Each tag is examined and located to match with the desired output variables."
   ]
  },
  {
   "cell_type": "code",
   "execution_count": 8,
   "metadata": {
    "scrolled": false
   },
   "outputs": [],
   "source": [
    "#open the text file \n",
    "with open('Patents.txt', 'r') as rawfile:\n",
    "    text = rawfile.read()"
   ]
  },
  {
   "cell_type": "code",
   "execution_count": 9,
   "metadata": {},
   "outputs": [],
   "source": [
    "#matche the text between the XML declaration and the root closing tag\n",
    "\n",
    "#create the pattern \n",
    "regex = r'<\\?xml[\\s\\S]*?</us-patent-grant>' \n",
    "\n",
    "#search the pattern in the text file \n",
    "patents = re.findall(regex, text)\n",
    "\n",
    "#select a random text block to see the outcome \n",
    "block1 = patents[57]\n",
    "\n",
    "#print(block1)"
   ]
  },
  {
   "cell_type": "markdown",
   "metadata": {},
   "source": [
    "It can be noted from the above examination, that the dataset is a combination of several XML files. Each beginning with `<?xml...?>` and ending with `<us-patent-grant>`. As a result, splitting the dataset into smaller blocks will make it easier to extract the desired variables."
   ]
  },
  {
   "cell_type": "code",
   "execution_count": 10,
   "metadata": {},
   "outputs": [
    {
     "name": "stdout",
     "output_type": "stream",
     "text": [
      "Total number of patents in the text files is: 150 patents\n"
     ]
    }
   ],
   "source": [
    "#create an empty list to store all the patents\n",
    "block=[]\n",
    "\n",
    "#iterate through the text file and append each patent to the block list\n",
    "for i in patents:\n",
    "    block.append(i)\n",
    "\n",
    "print('Total number of patents in the text files is:', len(block), 'patents')"
   ]
  },
  {
   "cell_type": "markdown",
   "metadata": {},
   "source": [
    "## 3. Parsing data and extraction of variables\n",
    "\n",
    "Now that a sample block has been examined and is successfully extracted, the desired variables will be located for extraction as below:\n",
    "\n",
    "1. Grant ID\n",
    "2. Patent Title\n",
    "3. Number of claims\n",
    "4. Names of inventors\n",
    "5. Number of citations done by examiners\n",
    "6. Number of citations done by applicants\n",
    "7. Claims text\n",
    "8. Abstract"
   ]
  },
  {
   "cell_type": "markdown",
   "metadata": {},
   "source": [
    "### Grant ID "
   ]
  },
  {
   "cell_type": "markdown",
   "metadata": {},
   "source": [
    "Grant ID is made up of the two letters `US` and sometimes a third letter followed by a series of digits."
   ]
  },
  {
   "cell_type": "code",
   "execution_count": 11,
   "metadata": {},
   "outputs": [
    {
     "name": "stdout",
     "output_type": "stream",
     "text": [
      "['US10362519', 'US10359672', 'US10358609']\n",
      "150\n"
     ]
    }
   ],
   "source": [
    "#code for grant_id\n",
    "\n",
    "#define an empty list to hold the values of grant_id for each patent\n",
    "grant_idlst=[] \n",
    "\n",
    "#iterate through each patent to extract the grant_id \n",
    "for i in block:\n",
    "    \n",
    "        #--------------grant_id-----------#\n",
    "        #the search function uses the regex to extract the given pattern from each patent\n",
    "    grant_id=re.findall('(?<=file=\")([A-Z0-9]+)', i)[0]\n",
    "         #each extracted item (grant_id)is appended to the list grant_idlst\n",
    "    grant_idlst.append(grant_id)\n",
    "\n",
    "    \n",
    "#print a sample of grant_idlst \n",
    "print(grant_idlst[0:3])\n",
    "\n",
    "#total number of grant_id\n",
    "print(len(grant_idlst))"
   ]
  },
  {
   "cell_type": "markdown",
   "metadata": {},
   "source": [
    "### Patent title"
   ]
  },
  {
   "cell_type": "markdown",
   "metadata": {},
   "source": [
    "Patent title consists of a string of texts. "
   ]
  },
  {
   "cell_type": "code",
   "execution_count": 12,
   "metadata": {},
   "outputs": [
    {
     "name": "stdout",
     "output_type": "stream",
     "text": [
      "['Handover apparatus and method', 'Display device and manufacturing method thereof', 'Process for removing metal naphthenate from crude hydrocarbon mixtures']\n",
      "150\n"
     ]
    }
   ],
   "source": [
    "#code for patent title\n",
    "#define an empty list to hold the values of patent_title for each block\n",
    "patent_titlelst=[] \n",
    "\n",
    "#iterate through each block to extract the patent_title of each block\n",
    "for i in block:\n",
    "\n",
    "            #----------patent_title------------#\n",
    "        #the search function uses the regex to extract the given pattern from each block\n",
    "    patent_title=re.search('(?<=\">)\\w+.*?(?=</invention-title>)',i)[0]\n",
    "    patent_title = re.sub('&#x;', '', str(patent_title))\n",
    "    patent_title = re.sub('&#x', '', str(patent_title))\n",
    "        #each extracted item (patenet_title)is appended to the list patent_titlelst\n",
    "    patent_titlelst.append(patent_title)\n",
    "\n",
    "#print a sample of patent_titlelst \n",
    "print(patent_titlelst[0:3])\n",
    "\n",
    "#total number of patent_title\n",
    "print(len(patent_titlelst))"
   ]
  },
  {
   "cell_type": "markdown",
   "metadata": {},
   "source": [
    "### Number of claims\n",
    "\n",
    "The number of claims is the count of claims made on each patent and thereby they are represented in numbers. "
   ]
  },
  {
   "cell_type": "code",
   "execution_count": 13,
   "metadata": {},
   "outputs": [
    {
     "name": "stdout",
     "output_type": "stream",
     "text": [
      "['12', '22', '22']\n",
      "150\n"
     ]
    }
   ],
   "source": [
    "#code for number of claims\n",
    "#define an empty list to hold the values of number_of_claims for each block\n",
    "claimno_textlst=[]\n",
    "\n",
    "    \n",
    "#iterate through each block to extract the kind_id_block of each block\n",
    "for i in block:\n",
    "    \n",
    "           #-------------number of claims------------#    \n",
    "        #the search function uses the regex to extract the given pattern from each block\n",
    "    number_of_claims=re.search('(?<=number-of-claims>)(\\d+)',i)[0]\n",
    "        #each extracted item (number_of_claims)is appended to the list claimno_textlst\n",
    "    claimno_textlst.append(number_of_claims) \n",
    "\n",
    "#print a sample of claimno_textlst \n",
    "print(claimno_textlst[0:3])\n",
    "\n",
    "#total number of claimno_textlst\n",
    "print(len(claimno_textlst))"
   ]
  },
  {
   "cell_type": "markdown",
   "metadata": {},
   "source": [
    "### Name of inventors"
   ]
  },
  {
   "cell_type": "markdown",
   "metadata": {},
   "source": [
    "Each patent has more than one inventor and each inventor's name is split up into first and last name. "
   ]
  },
  {
   "cell_type": "code",
   "execution_count": 14,
   "metadata": {},
   "outputs": [
    {
     "name": "stdout",
     "output_type": "stream",
     "text": [
      "['[Mingzeng Dai, Jing Liu, Yi Guo, Qinghai Zeng]', '[Seonggyu Kwon, Sangil Kim, Wontae Kim, Haksun Kim, Namseok Roh, Jaecheol Park, Youyoung Jin]', '[Knut Grande, Hege Kummernes, Kim Reidar Hôvik, Jens Emil Vindstad, Heidi Mediaas, Jorunn Steinsland Rosvoll, Ingvild Johanne Haug]']\n",
      "150\n"
     ]
    }
   ],
   "source": [
    "#code for names of inventors\n",
    "#define a list to hold the values of name for each block\n",
    "inventor_name=[]\n",
    "\n",
    "\n",
    "for i in block:\n",
    "                #--------------inventors------------#\n",
    "            # To find the inventors' names (first and last names)\n",
    "            #the findall function uses the regex to extract the given pattern from each patent\n",
    "    inventor = re.findall('<inventors>[\\s\\S]*?</inventors>', i)\n",
    "    for name in inventor:\n",
    "        inventor_last_regex = r'(?<=last-name>)\\w+.*?(?=</last-name>)'\n",
    "        inventor_first_regex = r'(?<=first-name>)\\w+.*?(?=</first-name>)'\n",
    "        inventor_last = re.findall(inventor_last_regex, name)\n",
    "        inventor_first = re.findall(inventor_first_regex, name)\n",
    "        name = [i + \" \" + j for i, j in zip(inventor_first, inventor_last)]\n",
    "        name = re.sub('&#xe9;', 'é', str(name))\n",
    "        name = re.sub('&#xf8;', 'ô', str(name))\n",
    "        name = re.sub('&#xf4;', 'ô', str(name))\n",
    "        name = re.sub('&#xf6;', 'ö', str(name))\n",
    "        name = re.sub('&#xe4;', 'ä', str(name))\n",
    "        name = re.sub('\\\"', \"\", str(name))\n",
    "        name = re.sub('\\'', \"\", str(name))\n",
    "        #each extracted item (name)is appended to the list inventor_name\n",
    "        inventor_name.append(name)\n",
    "        \n",
    "\n",
    "        \n",
    "\n",
    "#print a sample of inventor_name\n",
    "print(inventor_name[0:3])\n",
    "\n",
    "#total number of inventor_name\n",
    "print(len(inventor_name))"
   ]
  },
  {
   "cell_type": "markdown",
   "metadata": {},
   "source": [
    "### Number of citations by examiner"
   ]
  },
  {
   "cell_type": "markdown",
   "metadata": {},
   "source": [
    "Each patent was cited by a different number of examiners. "
   ]
  },
  {
   "cell_type": "code",
   "execution_count": 15,
   "metadata": {},
   "outputs": [
    {
     "name": "stdout",
     "output_type": "stream",
     "text": [
      "[2, 8, 1]\n",
      "150\n"
     ]
    }
   ],
   "source": [
    "#code for number of citations by examiner \n",
    "#define a list to hold the values of citations_examiner\n",
    "#for each block\n",
    "examiner_count=[]\n",
    "\n",
    "#iterate through each block to extract the citations_examiner of each block\n",
    "for i in block:\n",
    "            #----------CitationsCount-----------#\n",
    "         #the findall function uses the regex to extract the given pattern from each block\n",
    "    citations_examiner=re.findall('(?<=category>)(\\w.*examiner)(?=</category>)',i)\n",
    "        #append the number of occrances of each block to the examiner_count list\n",
    "    examiner_count.append(len(citations_examiner)) \n",
    "\n",
    "    \n",
    "#The count of occurrences of the pattern within each patent in the text file\n",
    "print(examiner_count[0:3]) \n",
    "\n",
    "#total number of examiner_count\n",
    "print(len(examiner_count))  "
   ]
  },
  {
   "cell_type": "markdown",
   "metadata": {},
   "source": [
    "### Number of citations by applicant"
   ]
  },
  {
   "cell_type": "markdown",
   "metadata": {},
   "source": [
    "Each patent was cited by a different number of applicants. "
   ]
  },
  {
   "cell_type": "code",
   "execution_count": 16,
   "metadata": {},
   "outputs": [
    {
     "name": "stdout",
     "output_type": "stream",
     "text": [
      "[46, 4, 47]\n",
      "150\n"
     ]
    }
   ],
   "source": [
    "#code for number of citations by examiner and applicant\n",
    "#define a list to hold the values of citations_applicant for each block\n",
    "applicant_count=[]\n",
    "\n",
    "#the for loop iterates through each block to extract the citations_applicant of each block\n",
    "for i in block:\n",
    "            #----------CitationsCount-----------#\n",
    "         #the search function uses the regex to extract the given pattern from each block\n",
    "    citations_applicant=re.findall('(?<=category>)(\\w.*applicant)(?=</category>)',i)\n",
    "         #append the number of occrances of each block to the applicant_count list\n",
    "    applicant_count.append(len(citations_applicant)) \n",
    "\n",
    "#The count of occurrences of the pattern within each patent in the text file\n",
    "print(applicant_count[0:3]) \n",
    "\n",
    "#total number of applicant_count\n",
    "print(len(applicant_count))  "
   ]
  },
  {
   "cell_type": "markdown",
   "metadata": {},
   "source": [
    "### Claims text\n"
   ]
  },
  {
   "cell_type": "markdown",
   "metadata": {},
   "source": [
    "The claims_text consists of one or many numbered strings."
   ]
  },
  {
   "cell_type": "code",
   "execution_count": 17,
   "metadata": {},
   "outputs": [
    {
     "name": "stdout",
     "output_type": "stream",
     "text": [
      "150\n"
     ]
    }
   ],
   "source": [
    "#code for claims text - needs refining\n",
    "#define a list to hold the values of claims_text for each block\n",
    "claim_textlst=[]\n",
    "\n",
    "\n",
    "#the for loop iterates through each block to extract the citations_applicant of each block\n",
    "for i in block:\n",
    "\n",
    "            #------------ClaimText---------------#\n",
    "            #extract the initial claims component from the dataset\n",
    "    claims_text_regex = r'(?<=claim-text>)(\\w.*)'\n",
    "    claims_text = re.findall(claims_text_regex, i)\n",
    "            #further parse the extracted 'claims text' component to remove unnecessary html tags\n",
    "    remove_tags = re.compile('<[^>]+>')\n",
    "    claims_text = re.sub(remove_tags, \"\", str(claims_text))\n",
    "    claims_text = re.sub('\\'', \"\", str(claims_text))\n",
    "    claims_text = re.sub('\\\\\\\\', \"'\", str(claims_text))\n",
    "    claims_text = re.sub('&#x', '', str(claims_text))\n",
    "    claims_text = re.sub('&#xb', '', str(claims_text))\n",
    "    claims_text = re.sub('&#x3', '', str(claims_text))\n",
    "    claims_text = re.sub(':', '', str(claims_text))\n",
    "    claims_text = re.sub(';', '', str(claims_text))\n",
    "            #each extracted item (claims_text)is appended to the list claim_textlst\n",
    "    claim_textlst.append(claims_text)\n",
    "\n",
    "\n",
    "#print a sample of claim_textlst\n",
    "#print(claim_textlst[0:3])\n",
    "\n",
    "#print number of applicant_count\n",
    "print(len(claim_textlst))"
   ]
  },
  {
   "cell_type": "markdown",
   "metadata": {},
   "source": [
    "### Abstract"
   ]
  },
  {
   "cell_type": "markdown",
   "metadata": {},
   "source": [
    "The abstract component is a string of texts briefly detailing each patent. "
   ]
  },
  {
   "cell_type": "code",
   "execution_count": 18,
   "metadata": {},
   "outputs": [
    {
     "name": "stdout",
     "output_type": "stream",
     "text": [
      "150\n"
     ]
    }
   ],
   "source": [
    "#code for abstract\n",
    "#define a list to hold the values of abstract for each block\n",
    "abstractlst=[]\n",
    "\n",
    "\n",
    "for i in block:\n",
    "                #------------abstract---------------#\n",
    "        #the findall function uses the regex to extract the given pattern from each block\n",
    "    abstract = re.findall('(?<=<p id=\"p-0001\" num=\"0000\">)(\\w.*)', i)\n",
    "    abstract = re.sub('\\[]', 'NA', str(abstract))\n",
    "    rm_openbrac = re.compile('\\[')\n",
    "    rm_closebrac = re.compile(']')\n",
    "    abstract = re.sub(rm_openbrac, \"\", str(abstract))\n",
    "    abstract = re.sub(rm_closebrac, \"\", str(abstract))\n",
    "    remove_tags = re.compile('<[^>]+>')\n",
    "    abstract = re.sub(remove_tags, \"\", str(abstract))\n",
    "    abstract = re.sub('\\'', \"\", str(abstract))\n",
    "    abstract = re.sub('\\\"', \"\", str(abstract))\n",
    "    abstract = re.sub('&#xb', '', str(abstract))\n",
    "    abstract = re.sub('&#xb;', '', str(abstract))\n",
    "    abstract = re.sub('&#x3bc;', 'μ', str(abstract))\n",
    "    abstract = re.sub('&#x2014;', '—', str(abstract))\n",
    "    abstract = re.sub('&#x201c;', '“', str(abstract))\n",
    "    abstract = re.sub('&#x201d;', '”', str(abstract))\n",
    "        #each extracted item (abstract)is appended to the list abstractlst\n",
    "    abstractlst.append(abstract)\n",
    "\n",
    "\n",
    "#print a sample of abstractlst\n",
    "#print(abstractlst[0:3])\n",
    "\n",
    "#total number of abstractlst\n",
    "print(len(abstractlst))"
   ]
  },
  {
   "cell_type": "markdown",
   "metadata": {},
   "source": [
    "After each variable has been extracted and parsed, they are appended to their individual lists to create a foundation for converting them into pandas dataframe in the next step."
   ]
  },
  {
   "cell_type": "markdown",
   "metadata": {},
   "source": [
    "## 4. Consolidating all lists into dataframe"
   ]
  },
  {
   "cell_type": "code",
   "execution_count": 19,
   "metadata": {},
   "outputs": [
    {
     "name": "stdout",
     "output_type": "stream",
     "text": [
      "The structure of the dataframe is: 8 columns and 150 rows\n"
     ]
    }
   ],
   "source": [
    "#code for list to dataframe\n",
    "#using Pandas dataframe to convert the list of lists to a dataframe\n",
    "\n",
    "final_output=pd.DataFrame({'grant_id':grant_idlst, 'patent_title':patent_titlelst,\n",
    "                           'number_of_claims':claimno_textlst, \n",
    "                            'inventors':inventor_name, \n",
    "                            'citations_applicant_count':applicant_count, \n",
    "                            'citations_examiner_count':examiner_count,\n",
    "                            'claims_text':claim_textlst,\n",
    "                             'abstract':abstractlst})\n",
    "\n",
    "#check that the 8 variables are extracted for the 150 patents \n",
    "print('The structure of the dataframe is:',len(final_output.columns),'columns and', \n",
    "     len(final_output),'rows')"
   ]
  },
  {
   "cell_type": "markdown",
   "metadata": {},
   "source": [
    "## 5. Exporting dataframe to CSV\n",
    "\n",
    "Extract the final dataframe to Excel "
   ]
  },
  {
   "cell_type": "code",
   "execution_count": 20,
   "metadata": {},
   "outputs": [],
   "source": [
    "#code for writing to csv\n",
    "\n",
    "#writing the file as csv \n",
    "final_csv=final_output.to_csv('final_output.csv',index=False)"
   ]
  },
  {
   "cell_type": "markdown",
   "metadata": {},
   "source": [
    "## 6. Converting dataframe/code to JSON"
   ]
  },
  {
   "cell_type": "code",
   "execution_count": 21,
   "metadata": {},
   "outputs": [],
   "source": [
    "json_dict={} #empty dictionary to store the json string\n",
    "var_dict={}  #empty dictionary to store the lists (7 lists)              \n",
    "\n",
    "#for loop that iterates 150 times   \n",
    "for i in range(len(grant_idlst)):\n",
    "    var_dict[\"patent_title\"]=patent_titlelst[i]\n",
    "    var_dict[\"number_of_claims\"]=claimno_textlst[i]\n",
    "    var_dict[\"inventors\"]=inventor_name[i]\n",
    "    var_dict[\"citations_applicant_count\"]=applicant_count[i]\n",
    "    var_dict[\"citations_examiner_count\"]=examiner_count[i]\n",
    "    var_dict[\"claims_text\"]=claim_textlst[i]\n",
    "    var_dict[\"abstract\"]=abstractlst[i] \n",
    "    json_dict[grant_idlst[i]]=dict(var_dict) #assign each grant_id as the key for the corresponding key/value\n",
    "\n",
    "#to check the format before saving the file\n",
    "#print(json_dict) \n",
    "\n",
    "#replace function to replace the single quote with double quotes\n",
    "with open('json_output.json','w') as conversion:\n",
    "    conversion.write((str(json_dict).replace(\"'\",'\"').replace('/','\\/')))"
   ]
  }
 ],
 "metadata": {
  "kernelspec": {
   "display_name": "Python 3",
   "language": "python",
   "name": "python3"
  },
  "language_info": {
   "codemirror_mode": {
    "name": "ipython",
    "version": 3
   },
   "file_extension": ".py",
   "mimetype": "text/x-python",
   "name": "python",
   "nbconvert_exporter": "python",
   "pygments_lexer": "ipython3",
   "version": "3.8.3"
  }
 },
 "nbformat": 4,
 "nbformat_minor": 1
}
